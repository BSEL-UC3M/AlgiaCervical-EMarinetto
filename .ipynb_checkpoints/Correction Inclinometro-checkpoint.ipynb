{
 "cells": [
  {
   "cell_type": "code",
   "execution_count": 9,
   "metadata": {
    "collapsed": true
   },
   "outputs": [],
   "source": [
    "import os\n",
    "import numpy\n",
    "from matplotlib import pyplot as plt\n",
    "import sys\n",
    "import pandas as pd\n",
    "import csv\n",
    "from mpl_toolkits.mplot3d import Axes3D\n",
    "#sys.path.insert(0, r'/Users/nenetto/Dev/BiiGTK/src/PythonTools')\n",
    "%matplotlib inline"
   ]
  },
  {
   "cell_type": "code",
   "execution_count": 10,
   "metadata": {
    "collapsed": false
   },
   "outputs": [
    {
     "name": "stdout",
     "output_type": "stream",
     "text": [
      "1253 1253 1253 1253 1253 1253\n"
     ]
    }
   ],
   "source": [
    "rotation_file = '/Users/nenetto/Trabajo/AlgiaCervical/DataTestInclinometro/movement_data.csv'\n",
    "\n",
    "# Read by rows\n",
    "import csv\n",
    "csvfile = open(rotation_file, 'rb')\n",
    "spamreader = csv.reader(csvfile, delimiter=',')\n",
    "\n",
    "names = spamreader.next()\n",
    "time = spamreader.next()\n",
    "angleExtracted = spamreader.next()\n",
    "xangle = spamreader.next()\n",
    "yangle = spamreader.next()\n",
    "zangle = spamreader.next()\n",
    "\n",
    "print len(time), len(time), len(angleExtracted), len(xangle), len(yangle), len(zangle)"
   ]
  },
  {
   "cell_type": "code",
   "execution_count": 77,
   "metadata": {
    "collapsed": false,
    "scrolled": false
   },
   "outputs": [
    {
     "data": {
      "image/png": "[encoded data removed]",
      "text/plain": [
       "<matplotlib.figure.Figure at 0x10d2f2c50>"
      ]
     },
     "metadata": {},
     "output_type": "display_data"
    }
   ],
   "source": [
    "rotation_file = '/Users/nenetto/Trabajo/AlgiaCervical/DataTestInclinometro/movement_data.csv'\n",
    "\n",
    "# Read by rows\n",
    "import csv\n",
    "csvfile = open(rotation_file, 'rb')\n",
    "spamreader = csv.reader(csvfile, delimiter=',')\n",
    "\n",
    "names = spamreader.next()\n",
    "time = spamreader.next()\n",
    "angleExtracted = spamreader.next()\n",
    "xangle = spamreader.next()\n",
    "yangle = spamreader.next()\n",
    "zangle = spamreader.next()\n",
    "\n",
    "# Number of points\n",
    "N = len(time)\n",
    "\n",
    "eulerAng = numpy.zeros((5,N))\n",
    "\n",
    "eulerAng[0,:] = numpy.array(xangle)\n",
    "eulerAng[1,:] = numpy.array(yangle)\n",
    "eulerAng[2,:] = numpy.array(zangle)\n",
    "eulerAng[3,:] = numpy.array(angleExtracted)\n",
    "eulerAng[4,:] = numpy.array(time)\n",
    "\n",
    "    \n",
    "    \n",
    "    \n",
    "\n",
    "def correctAngles(x,y,z):\n",
    "    \n",
    "    dvx = x[1::] - x[0:-1]\n",
    "    dvx = numpy.concatenate(([0.0],dvx),0)\n",
    "    thresholdx = numpy.median(dvx) + 5 * numpy.std(dvx)\n",
    "    dvx = numpy.abs(dvx)\n",
    "    \n",
    "    dvy = numpy.diff(y)\n",
    "    dvy = numpy.concatenate(([0.0],dvy),0)\n",
    "    thresholdy = numpy.median(dvy) + 5 * numpy.std(dvy)\n",
    "    dvy = numpy.abs(dvy)\n",
    "    \n",
    "    dvz = numpy.diff(z)\n",
    "    dvz = numpy.concatenate(([0.0],dvz),0)\n",
    "    thresholdz = numpy.median(dvz) + 5 * numpy.std(dvz)\n",
    "    dvz = numpy.abs(dvz)\n",
    "    \n",
    "\n",
    "    threshold = numpy.max(numpy.array([thresholdx, thresholdy, thresholdz]))\n",
    "    \n",
    "    signx = 1\n",
    "    signy = 1\n",
    "    signz = 1\n",
    "    \n",
    "    \n",
    "    cx = numpy.copy(x)\n",
    "    cy = numpy.copy(y)\n",
    "    cz = numpy.copy(z)\n",
    "    \n",
    "    \n",
    "    for i in range(len(x)):\n",
    "        \n",
    "        if dvx[i] > threshold:\n",
    "            signx = signx * (-1)\n",
    "            \n",
    "        if dvy[i] > threshold:\n",
    "            signy = signz * (-1)\n",
    "            \n",
    "        if dvz[i] > threshold:\n",
    "            signz = signz * (-1)\n",
    "            \n",
    "            \n",
    "        if signx == (-1):\n",
    "            cx[i] = x[i] + 360\n",
    "            \n",
    "        if signy == (-1):\n",
    "            cy[i] = y[i] + 360\n",
    "            \n",
    "        if signz == (-1):\n",
    "            cz[i] = z[i] + 360\n",
    "\n",
    "    return cx,cy,cz\n",
    "    \n",
    "    \n",
    "    \n",
    "   \n",
    "\n",
    "\n",
    "\n",
    "# Correct all angles\n",
    "\n",
    "x = eulerAng[0,:] \n",
    "y = eulerAng[1,:] \n",
    "z = eulerAng[2,:] \n",
    "\n",
    "\n",
    "cx,cy,cz = correctAngles(x,y,z)\n",
    "\n",
    "\n",
    "fig = plt.figure()\n",
    "ax = fig.add_subplot(111)\n",
    "ax.plot(x,'r', ls = ':')\n",
    "ax.plot(y,'g', ls = ':')\n",
    "ax.plot(z,'b', ls = ':')\n",
    "ax.plot(cx,'r')\n",
    "ax.plot(cy,'g')\n",
    "ax.plot(cz,'b')\n",
    "ax.set_xlabel('n')\n",
    "ax.set_ylabel('Angles')\n",
    "ax.set_title('Correction\\n')\n",
    "plt.show()\n"
   ]
  },
  {
   "cell_type": "code",
   "execution_count": 70,
   "metadata": {
    "collapsed": false
   },
   "outputs": [
    {
     "name": "stdout",
     "output_type": "stream",
     "text": [
      "[1 1]\n",
      "[1 1]\n"
     ]
    }
   ],
   "source": [
    "a = numpy.array([1,2,3])\n",
    "print a[1::] - a[0:-1]\n",
    "print numpy.diff(a)"
   ]
  },
  {
   "cell_type": "code",
   "execution_count": 38,
   "metadata": {
    "collapsed": false
   },
   "outputs": [
    {
     "name": "stdout",
     "output_type": "stream",
     "text": [
      "[ True False False]\n"
     ]
    }
   ],
   "source": [
    "print a"
   ]
  },
  {
   "cell_type": "code",
   "execution_count": 42,
   "metadata": {
    "collapsed": false
   },
   "outputs": [
    {
     "name": "stdout",
     "output_type": "stream",
     "text": [
      "[ True  True False False]\n"
     ]
    }
   ],
   "source": [
    "print numpy.concatenate(([True],a),0)"
   ]
  },
  {
   "cell_type": "code",
   "execution_count": null,
   "metadata": {
    "collapsed": true
   },
   "outputs": [],
   "source": []
  }
 ],
 "metadata": {
  "kernelspec": {
   "display_name": "Python 2",
   "language": "python",
   "name": "python2"
  },
  "language_info": {
   "codemirror_mode": {
    "name": "ipython",
    "version": 2
   },
   "file_extension": ".py",
   "mimetype": "text/x-python",
   "name": "python",
   "nbconvert_exporter": "python",
   "pygments_lexer": "ipython2",
   "version": "2.7.10"
  }
 },
 "nbformat": 4,
 "nbformat_minor": 0
}
